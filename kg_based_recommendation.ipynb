{
 "cells": [
  {
   "cell_type": "code",
   "execution_count": 1,
   "metadata": {},
   "outputs": [],
   "source": [
    "import os\n",
    "import pandas as pd\n",
    "import numpy as np"
   ]
  },
  {
   "cell_type": "code",
   "execution_count": 14,
   "metadata": {},
   "outputs": [
    {
     "data": {
      "text/plain": [
       "['.ipynb_checkpoints',\n",
       " 'context_embeddings_TransE_50.npy',\n",
       " 'doc2vec.ipynb',\n",
       " 'entity2id.txt',\n",
       " 'entity_embeddings_TransE_50.npy',\n",
       " 'Essay_Form.docx',\n",
       " 'Ethical_20583888.docx',\n",
       " 'Ethical_Essay_20583888.pdf',\n",
       " 'Fast-TransX',\n",
       " 'FYP txt',\n",
       " 'kg.txt',\n",
       " 'kg_based_recommendation.ipynb',\n",
       " 'kg_preprocess.py',\n",
       " 'knowledge_graph.txt',\n",
       " 'openie_csv',\n",
       " 'openie_wikientity_csv_filtered',\n",
       " 'prepare_data_for_transx.py',\n",
       " 'relation2id.txt',\n",
       " 'TransE_entity2vec_50.vec',\n",
       " 'TransE_relation2vec_50.vec',\n",
       " 'TransH_A_50.vec',\n",
       " 'TransH_entity2vec_50.vec',\n",
       " 'TransH_relation2vec_50.vec',\n",
       " 'TransR_A_50.vec',\n",
       " 'TransR_entity2vec_50.vec',\n",
       " 'TransR_relation2vec_50.vec',\n",
       " 'triple2id.txt']"
      ]
     },
     "execution_count": 14,
     "metadata": {},
     "output_type": "execute_result"
    }
   ],
   "source": [
    "os.listdir()"
   ]
  },
  {
   "cell_type": "code",
   "execution_count": 3,
   "metadata": {},
   "outputs": [],
   "source": [
    "FILE_PATH = 'openie_wikientity_csv_filtered'\n",
    "kg_files = os.listdir(FILE_PATH)"
   ]
  },
  {
   "cell_type": "code",
   "execution_count": 10,
   "metadata": {},
   "outputs": [],
   "source": [
    "entity2id = dict()\n",
    "with open('entity2id.txt', encoding='utf8') as f:\n",
    "    for i, line in enumerate(f):\n",
    "        if i == 0:\n",
    "            continue\n",
    "        tokens = line.split('\\t')\n",
    "        entity2id[tokens[0]] = int(tokens[1])"
   ]
  },
  {
   "cell_type": "code",
   "execution_count": 13,
   "metadata": {},
   "outputs": [
    {
     "data": {
      "text/plain": [
       "76870"
      ]
     },
     "execution_count": 13,
     "metadata": {},
     "output_type": "execute_result"
    }
   ],
   "source": [
    "len(entity2id.keys())"
   ]
  },
  {
   "cell_type": "code",
   "execution_count": 18,
   "metadata": {},
   "outputs": [
    {
     "data": {
      "text/plain": [
       "(76871, 50)"
      ]
     },
     "execution_count": 18,
     "metadata": {},
     "output_type": "execute_result"
    }
   ],
   "source": [
    "entity_embeddings = np.load('entity_embeddings_TransE_50.npy')\n",
    "entity_embeddings.shape"
   ]
  },
  {
   "cell_type": "code",
   "execution_count": 25,
   "metadata": {},
   "outputs": [],
   "source": [
    "# from sklearn.manifold import TSNE\n",
    "# import matplotlib.pyplot as plt\n",
    "\n",
    "# X = entity_embeddings\n",
    "# tsne = TSNE(n_components=2)\n",
    "# X_tsne = tsne.fit_transform(X)\n",
    "# df = pd.DataFrame(X_tsne, index=doc_tags, columns=['x', 'y'])\n",
    "# plt.scatter(df['x'], df['y'], s=0.4, alpha=0.4)"
   ]
  },
  {
   "cell_type": "code",
   "execution_count": 32,
   "metadata": {},
   "outputs": [],
   "source": [
    "from collections import defaultdict\n",
    "included_entites = defaultdict(set)\n",
    "for files in kg_files:\n",
    "    df = pd.read_csv(os.path.join(FILE_PATH, files))\n",
    "    entites_set = set(df['subject']).union(set(df['object']))\n",
    "    included_entity = []\n",
    "    for items in entites_set:\n",
    "        if entity2id.get(items):\n",
    "            included_entity.append(entity2id.get(items))\n",
    "    included_entites[files] = included_entity"
   ]
  },
  {
   "cell_type": "code",
   "execution_count": 40,
   "metadata": {},
   "outputs": [],
   "source": [
    "file_keys = list(included_entites.keys())"
   ]
  },
  {
   "cell_type": "code",
   "execution_count": 56,
   "metadata": {},
   "outputs": [],
   "source": [
    "mapped_vectors = dict()\n",
    "for keys in file_keys:\n",
    "    mapped_vectors[keys] = np.average(entity_embeddings[included_entites[keys]], axis=0)"
   ]
  },
  {
   "cell_type": "code",
   "execution_count": 79,
   "metadata": {},
   "outputs": [
    {
     "name": "stdout",
     "output_type": "stream",
     "text": [
      "abstract method11.csv \n",
      "\n",
      "abstract method11.csv\n",
      "type theory7.csv\n",
      "reliability engineering2.csv\n",
      "interpreter4.csv\n",
      "object15.csv\n",
      "interpreter12.csv\n"
     ]
    }
   ],
   "source": [
    "kdtree_query = np.array(list(mapped_vectors.values()))\n",
    "tree = spatial.KDTree(kdtree_query)\n",
    "print(file_keys[0], '\\n')\n",
    "for items in tree.query(mapped_vectors[file_keys[0]], 6)[1]:\n",
    "    print(file_keys[items])"
   ]
  }
 ],
 "metadata": {
  "kernelspec": {
   "display_name": "Python 3",
   "language": "python",
   "name": "python3"
  },
  "language_info": {
   "codemirror_mode": {
    "name": "ipython",
    "version": 3
   },
   "file_extension": ".py",
   "mimetype": "text/x-python",
   "name": "python",
   "nbconvert_exporter": "python",
   "pygments_lexer": "ipython3",
   "version": "3.8.5"
  }
 },
 "nbformat": 4,
 "nbformat_minor": 4
}
